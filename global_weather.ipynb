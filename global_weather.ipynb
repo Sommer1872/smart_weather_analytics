{
 "cells": [
  {
   "cell_type": "code",
   "execution_count": 137,
   "metadata": {},
   "outputs": [],
   "source": [
    "import pickle\n",
    "\n",
    "import pandas as pd\n",
    "import numpy as np\n",
    "import matplotlib.pyplot as plt\n",
    "import statsmodels.api as sm\n",
    "\n",
    "# ignore warnings because they are not relevant\n",
    "import warnings\n",
    "warnings.filterwarnings('ignore')\n",
    "\n",
    "# suppress the scientific notation when printing numpy arrays\n",
    "np.set_printoptions(suppress=True)"
   ]
  },
  {
   "cell_type": "markdown",
   "metadata": {},
   "source": [
    "# Loading the data"
   ]
  },
  {
   "cell_type": "code",
   "execution_count": 138,
   "metadata": {},
   "outputs": [],
   "source": [
    "stock_index = 'SSMI'"
   ]
  },
  {
   "cell_type": "code",
   "execution_count": 139,
   "metadata": {},
   "outputs": [
    {
     "data": {
      "text/html": [
       "<div>\n",
       "<style scoped>\n",
       "    .dataframe tbody tr th:only-of-type {\n",
       "        vertical-align: middle;\n",
       "    }\n",
       "\n",
       "    .dataframe tbody tr th {\n",
       "        vertical-align: top;\n",
       "    }\n",
       "\n",
       "    .dataframe thead th {\n",
       "        text-align: right;\n",
       "    }\n",
       "</style>\n",
       "<table border=\"1\" class=\"dataframe\">\n",
       "  <thead>\n",
       "    <tr style=\"text-align: right;\">\n",
       "      <th></th>\n",
       "      <th>Index</th>\n",
       "      <th>Price Close</th>\n",
       "    </tr>\n",
       "    <tr>\n",
       "      <th>Date</th>\n",
       "      <th></th>\n",
       "      <th></th>\n",
       "    </tr>\n",
       "  </thead>\n",
       "  <tbody>\n",
       "    <tr>\n",
       "      <th>2008-10-30</th>\n",
       "      <td>SSMI</td>\n",
       "      <td>5119.919376</td>\n",
       "    </tr>\n",
       "    <tr>\n",
       "      <th>2008-10-31</th>\n",
       "      <td>SSMI</td>\n",
       "      <td>5315.488943</td>\n",
       "    </tr>\n",
       "    <tr>\n",
       "      <th>2008-11-03</th>\n",
       "      <td>SSMI</td>\n",
       "      <td>5311.306126</td>\n",
       "    </tr>\n",
       "    <tr>\n",
       "      <th>2008-11-04</th>\n",
       "      <td>SSMI</td>\n",
       "      <td>5520.079351</td>\n",
       "    </tr>\n",
       "    <tr>\n",
       "      <th>2008-11-05</th>\n",
       "      <td>SSMI</td>\n",
       "      <td>5330.643769</td>\n",
       "    </tr>\n",
       "  </tbody>\n",
       "</table>\n",
       "</div>"
      ],
      "text/plain": [
       "           Index  Price Close\n",
       "Date                         \n",
       "2008-10-30  SSMI  5119.919376\n",
       "2008-10-31  SSMI  5315.488943\n",
       "2008-11-03  SSMI  5311.306126\n",
       "2008-11-04  SSMI  5520.079351\n",
       "2008-11-05  SSMI  5330.643769"
      ]
     },
     "execution_count": 139,
     "metadata": {},
     "output_type": "execute_result"
    }
   ],
   "source": [
    "stocks = pd.read_csv(\"./data/StockIndices.csv\",\n",
    "                 decimal=',')\n",
    "\n",
    "# stocks date format: 29/10/2018\n",
    "stocks['Date'] = pd.to_datetime(stocks['Date'], format='%d/%m/%Y')\n",
    "stocks.set_index('Date', inplace=True)\n",
    "stocks.drop(columns='Unnamed: 0', inplace=True)\n",
    "stocks.head()\n",
    "\n",
    "# converting prices to floats\n",
    "stocks['Price Close'] = [float(price) for price in stocks['Price Close']]\n",
    "\n",
    "# data cleansing\n",
    "stocks['Index'] = [name.replace(\".\", \"\") for name in stocks['Index'].values]\n",
    "\n",
    "stock_index = stocks[stocks['Index'] == stock_index]\n",
    "stock_index.head()"
   ]
  },
  {
   "cell_type": "code",
   "execution_count": 140,
   "metadata": {},
   "outputs": [
    {
     "data": {
      "text/html": [
       "<div>\n",
       "<style scoped>\n",
       "    .dataframe tbody tr th:only-of-type {\n",
       "        vertical-align: middle;\n",
       "    }\n",
       "\n",
       "    .dataframe tbody tr th {\n",
       "        vertical-align: top;\n",
       "    }\n",
       "\n",
       "    .dataframe thead th {\n",
       "        text-align: right;\n",
       "    }\n",
       "</style>\n",
       "<table border=\"1\" class=\"dataframe\">\n",
       "  <thead>\n",
       "    <tr style=\"text-align: right;\">\n",
       "      <th></th>\n",
       "      <th>City</th>\n",
       "      <th>Mean Temperature Actual</th>\n",
       "      <th>Low Temperature Actual</th>\n",
       "      <th>High Temperature Actual</th>\n",
       "      <th>Precipitation Actual</th>\n",
       "      <th>Wind Speed Actual</th>\n",
       "      <th>Relative Humidity Actual</th>\n",
       "    </tr>\n",
       "    <tr>\n",
       "      <th>Date</th>\n",
       "      <th></th>\n",
       "      <th></th>\n",
       "      <th></th>\n",
       "      <th></th>\n",
       "      <th></th>\n",
       "      <th></th>\n",
       "      <th></th>\n",
       "    </tr>\n",
       "  </thead>\n",
       "  <tbody>\n",
       "    <tr>\n",
       "      <th>2018-10-25</th>\n",
       "      <td>Boston</td>\n",
       "      <td>6.64</td>\n",
       "      <td>3.28</td>\n",
       "      <td>10.00</td>\n",
       "      <td>0.10</td>\n",
       "      <td>16.44</td>\n",
       "      <td>69.57</td>\n",
       "    </tr>\n",
       "    <tr>\n",
       "      <th>2018-10-24</th>\n",
       "      <td>Boston</td>\n",
       "      <td>7.19</td>\n",
       "      <td>5.00</td>\n",
       "      <td>9.39</td>\n",
       "      <td>0.10</td>\n",
       "      <td>18.07</td>\n",
       "      <td>76.07</td>\n",
       "    </tr>\n",
       "    <tr>\n",
       "      <th>2018-10-23</th>\n",
       "      <td>Boston</td>\n",
       "      <td>9.19</td>\n",
       "      <td>5.00</td>\n",
       "      <td>13.30</td>\n",
       "      <td>1.04</td>\n",
       "      <td>13.83</td>\n",
       "      <td>77.78</td>\n",
       "    </tr>\n",
       "    <tr>\n",
       "      <th>2018-10-22</th>\n",
       "      <td>Boston</td>\n",
       "      <td>6.65</td>\n",
       "      <td>1.10</td>\n",
       "      <td>12.20</td>\n",
       "      <td>0.00</td>\n",
       "      <td>14.37</td>\n",
       "      <td>49.61</td>\n",
       "    </tr>\n",
       "    <tr>\n",
       "      <th>2018-10-21</th>\n",
       "      <td>Boston</td>\n",
       "      <td>7.19</td>\n",
       "      <td>2.80</td>\n",
       "      <td>11.70</td>\n",
       "      <td>0.08</td>\n",
       "      <td>24.00</td>\n",
       "      <td>50.89</td>\n",
       "    </tr>\n",
       "  </tbody>\n",
       "</table>\n",
       "</div>"
      ],
      "text/plain": [
       "              City  Mean Temperature Actual  Low Temperature Actual  \\\n",
       "Date                                                                  \n",
       "2018-10-25  Boston                     6.64                    3.28   \n",
       "2018-10-24  Boston                     7.19                    5.00   \n",
       "2018-10-23  Boston                     9.19                    5.00   \n",
       "2018-10-22  Boston                     6.65                    1.10   \n",
       "2018-10-21  Boston                     7.19                    2.80   \n",
       "\n",
       "            High Temperature Actual  Precipitation Actual  Wind Speed Actual  \\\n",
       "Date                                                                           \n",
       "2018-10-25                    10.00                  0.10              16.44   \n",
       "2018-10-24                     9.39                  0.10              18.07   \n",
       "2018-10-23                    13.30                  1.04              13.83   \n",
       "2018-10-22                    12.20                  0.00              14.37   \n",
       "2018-10-21                    11.70                  0.08              24.00   \n",
       "\n",
       "            Relative Humidity Actual  \n",
       "Date                                  \n",
       "2018-10-25                     69.57  \n",
       "2018-10-24                     76.07  \n",
       "2018-10-23                     77.78  \n",
       "2018-10-22                     49.61  \n",
       "2018-10-21                     50.89  "
      ]
     },
     "execution_count": 140,
     "metadata": {},
     "output_type": "execute_result"
    }
   ],
   "source": [
    "weather = pd.read_csv(\"./data/Weather_ALL.csv\",\n",
    "                 sep=';',\n",
    "                 decimal=',')\n",
    "\n",
    "# weather date format: 29/10/2018\n",
    "weather['Date'] = pd.to_datetime(weather['Date'], format='%d/%m/%Y')\n",
    "weather.set_index('Date', inplace=True)\n",
    "weather.head()\n",
    "\n",
    "# drop NaNs\n",
    "weather.dropna(inplace=True)\n",
    "\n",
    "weather.head()"
   ]
  },
  {
   "cell_type": "markdown",
   "metadata": {},
   "source": [
    "# Hypothesis: Index depends on global weather conditions"
   ]
  },
  {
   "cell_type": "code",
   "execution_count": 141,
   "metadata": {},
   "outputs": [],
   "source": [
    "# GENERAGE SEASON BINARIES\n",
    "stock_index['weekday'] = stock_index.index.dayofweek\n",
    "stock_index['month'] = stock_index.index.month\n",
    "\n",
    "# Mondays are bad ^^\n",
    "stock_index['Monday'] = np.where(stock_index['weekday'] == 0, 1, 0)\n",
    "\n",
    "# Winter is November, December, October\n",
    "stock_index['Winter'] = np.where((stock_index['month'] == 11) | \n",
    "                       (stock_index['month'] == 12) | \n",
    "                       (stock_index['month'] == 1), 1, 0)"
   ]
  },
  {
   "cell_type": "code",
   "execution_count": 142,
   "metadata": {},
   "outputs": [
    {
     "data": {
      "text/html": [
       "<div>\n",
       "<style scoped>\n",
       "    .dataframe tbody tr th:only-of-type {\n",
       "        vertical-align: middle;\n",
       "    }\n",
       "\n",
       "    .dataframe tbody tr th {\n",
       "        vertical-align: top;\n",
       "    }\n",
       "\n",
       "    .dataframe thead th {\n",
       "        text-align: right;\n",
       "    }\n",
       "</style>\n",
       "<table border=\"1\" class=\"dataframe\">\n",
       "  <thead>\n",
       "    <tr style=\"text-align: right;\">\n",
       "      <th></th>\n",
       "      <th>Index</th>\n",
       "      <th>Price Close</th>\n",
       "      <th>weekday</th>\n",
       "      <th>month</th>\n",
       "      <th>Monday</th>\n",
       "      <th>Winter</th>\n",
       "    </tr>\n",
       "    <tr>\n",
       "      <th>Date</th>\n",
       "      <th></th>\n",
       "      <th></th>\n",
       "      <th></th>\n",
       "      <th></th>\n",
       "      <th></th>\n",
       "      <th></th>\n",
       "    </tr>\n",
       "  </thead>\n",
       "  <tbody>\n",
       "    <tr>\n",
       "      <th>2008-10-30</th>\n",
       "      <td>SSMI</td>\n",
       "      <td>5119.919376</td>\n",
       "      <td>3</td>\n",
       "      <td>10</td>\n",
       "      <td>0</td>\n",
       "      <td>0</td>\n",
       "    </tr>\n",
       "    <tr>\n",
       "      <th>2008-10-31</th>\n",
       "      <td>SSMI</td>\n",
       "      <td>5315.488943</td>\n",
       "      <td>4</td>\n",
       "      <td>10</td>\n",
       "      <td>0</td>\n",
       "      <td>0</td>\n",
       "    </tr>\n",
       "    <tr>\n",
       "      <th>2008-11-03</th>\n",
       "      <td>SSMI</td>\n",
       "      <td>5311.306126</td>\n",
       "      <td>0</td>\n",
       "      <td>11</td>\n",
       "      <td>1</td>\n",
       "      <td>1</td>\n",
       "    </tr>\n",
       "    <tr>\n",
       "      <th>2008-11-04</th>\n",
       "      <td>SSMI</td>\n",
       "      <td>5520.079351</td>\n",
       "      <td>1</td>\n",
       "      <td>11</td>\n",
       "      <td>0</td>\n",
       "      <td>1</td>\n",
       "    </tr>\n",
       "    <tr>\n",
       "      <th>2008-11-05</th>\n",
       "      <td>SSMI</td>\n",
       "      <td>5330.643769</td>\n",
       "      <td>2</td>\n",
       "      <td>11</td>\n",
       "      <td>0</td>\n",
       "      <td>1</td>\n",
       "    </tr>\n",
       "  </tbody>\n",
       "</table>\n",
       "</div>"
      ],
      "text/plain": [
       "           Index  Price Close  weekday  month  Monday  Winter\n",
       "Date                                                         \n",
       "2008-10-30  SSMI  5119.919376        3     10       0       0\n",
       "2008-10-31  SSMI  5315.488943        4     10       0       0\n",
       "2008-11-03  SSMI  5311.306126        0     11       1       1\n",
       "2008-11-04  SSMI  5520.079351        1     11       0       1\n",
       "2008-11-05  SSMI  5330.643769        2     11       0       1"
      ]
     },
     "execution_count": 142,
     "metadata": {},
     "output_type": "execute_result"
    }
   ],
   "source": [
    "stock_index.head()"
   ]
  },
  {
   "cell_type": "code",
   "execution_count": 174,
   "metadata": {},
   "outputs": [],
   "source": [
    "# Creating weather binaries for each city\n",
    "\n",
    "cities = dict() \n",
    "for city in weather['City'].unique():\n",
    "    \n",
    "    city_name = city\n",
    "    \n",
    "    city = weather[weather['City'] == city].copy()\n",
    "    \n",
    "    city['VeryCold'] = np.where(city['Mean Temperature Actual'] <= np.percentile(city['Mean Temperature Actual'], q=25), 1, 0)\n",
    "    city['HeavyRain'] = np.where(city['Precipitation Actual'] >= np.percentile(city['Precipitation Actual'], q=75), 1, 0)\n",
    "    city['ColdRain'] = city['HeavyRain']*city['VeryCold']\n",
    "    \n",
    "    cities[city_name] = city"
   ]
  },
  {
   "cell_type": "code",
   "execution_count": 175,
   "metadata": {},
   "outputs": [],
   "source": [
    "# creating global weather binaries that are only true if it's in every location\n",
    "stock_index['global_cold'] = np.ones(len(stock_index))\n",
    "stock_index['global_rain'] = np.ones(len(stock_index))\n",
    "stock_index['global_coldrain'] = np.ones(len(stock_index))\n",
    "\n",
    "for city_name, city in cities.items():\n",
    "    stock_index['global_cold'] = (stock_index['global_cold'] == 1) & (city['VeryCold'] == 1)\n",
    "    stock_index['global_rain'] = (stock_index['global_rain'] == 1) & (city['HeavyRain'] == 1)\n",
    "    stock_index['global_coldrain'] = (stock_index['global_coldrain'] == 1) & (city['ColdRain'] == 1)"
   ]
  },
  {
   "cell_type": "code",
   "execution_count": 176,
   "metadata": {},
   "outputs": [],
   "source": [
    "# convert to integers\n",
    "stock_index['global_cold'] = stock_index['global_cold'] * 1\n",
    "stock_index['global_rain'] = stock_index['global_rain'] * 1 \n",
    "stock_index['global_coldrain'] = stock_index['global_coldrain'] * 1"
   ]
  },
  {
   "cell_type": "code",
   "execution_count": 177,
   "metadata": {},
   "outputs": [
    {
     "data": {
      "text/plain": [
       "0.04906094288999617"
      ]
     },
     "execution_count": 177,
     "metadata": {},
     "output_type": "execute_result"
    }
   ],
   "source": [
    "stock_index['global_cold'].sum() / len(stock_index)"
   ]
  },
  {
   "cell_type": "code",
   "execution_count": 178,
   "metadata": {},
   "outputs": [
    {
     "data": {
      "text/plain": [
       "0.0011498658489842851"
      ]
     },
     "execution_count": 178,
     "metadata": {},
     "output_type": "execute_result"
    }
   ],
   "source": [
    "stock_index['global_rain'].sum() / len(stock_index)"
   ]
  },
  {
   "cell_type": "code",
   "execution_count": 179,
   "metadata": {},
   "outputs": [
    {
     "data": {
      "text/plain": [
       "0.0"
      ]
     },
     "execution_count": 179,
     "metadata": {},
     "output_type": "execute_result"
    }
   ],
   "source": [
    "stock_index['global_coldrain'].sum() / len(stock_index)"
   ]
  },
  {
   "cell_type": "markdown",
   "metadata": {},
   "source": [
    "# Linear Regression"
   ]
  },
  {
   "cell_type": "code",
   "execution_count": 180,
   "metadata": {},
   "outputs": [],
   "source": [
    "def estimate_linear(df, dependent, regressors):\n",
    "    y = df[dependent]\n",
    "    X = sm.add_constant(df[regressors])\n",
    "    model = sm.OLS(y, X).fit(cov_type='HAC',cov_kwds={'maxlags':20})\n",
    "    predictions = model.predict(X)\n",
    "    return model, predictions\n",
    "\n",
    "def plot_and_save_stats(model, name):\n",
    "    plt.close()\n",
    "    plt.rc('figure', figsize=(12, 7))\n",
    "    plt.text(0.01, 0.05, model.summary(), {'fontsize': 10}, fontproperties = 'monospace') # approach improved by OP -> monospace!\n",
    "    plt.axis('off')\n",
    "    plt.tight_layout()\n",
    "    #plt.savefig('/{}_statistics.png'.format(name))"
   ]
  },
  {
   "cell_type": "code",
   "execution_count": 181,
   "metadata": {},
   "outputs": [],
   "source": [
    "# calculate log returns\n",
    "stock_index['LogReturns'] = np.log(stock_index['Price Close'] / stock_index['Price Close'].shift(1))"
   ]
  },
  {
   "cell_type": "code",
   "execution_count": 182,
   "metadata": {},
   "outputs": [],
   "source": [
    "regressors = ['global_cold', 'global_rain', 'global_coldrain', 'weekday', 'month', 'Monday', 'Winter']\n",
    "\n",
    "model, predictions = estimate_linear(stock_index.dropna(), 'LogReturns', regressors)"
   ]
  },
  {
   "cell_type": "code",
   "execution_count": 183,
   "metadata": {},
   "outputs": [
    {
     "data": {
      "text/html": [
       "<table class=\"simpletable\">\n",
       "<caption>OLS Regression Results</caption>\n",
       "<tr>\n",
       "  <th>Dep. Variable:</th>       <td>LogReturns</td>    <th>  R-squared:         </th>  <td>   0.001</td> \n",
       "</tr>\n",
       "<tr>\n",
       "  <th>Model:</th>                   <td>OLS</td>       <th>  Adj. R-squared:    </th>  <td>  -0.001</td> \n",
       "</tr>\n",
       "<tr>\n",
       "  <th>Method:</th>             <td>Least Squares</td>  <th>  F-statistic:       </th>  <td>  0.5709</td> \n",
       "</tr>\n",
       "<tr>\n",
       "  <th>Date:</th>             <td>Thu, 01 Nov 2018</td> <th>  Prob (F-statistic):</th>   <td> 0.754</td>  \n",
       "</tr>\n",
       "<tr>\n",
       "  <th>Time:</th>                 <td>15:50:52</td>     <th>  Log-Likelihood:    </th>  <td>  7969.9</td> \n",
       "</tr>\n",
       "<tr>\n",
       "  <th>No. Observations:</th>      <td>  2608</td>      <th>  AIC:               </th> <td>-1.593e+04</td>\n",
       "</tr>\n",
       "<tr>\n",
       "  <th>Df Residuals:</th>          <td>  2601</td>      <th>  BIC:               </th> <td>-1.588e+04</td>\n",
       "</tr>\n",
       "<tr>\n",
       "  <th>Df Model:</th>              <td>     6</td>      <th>                     </th>      <td> </td>    \n",
       "</tr>\n",
       "<tr>\n",
       "  <th>Covariance Type:</th>         <td>HAC</td>       <th>                     </th>      <td> </td>    \n",
       "</tr>\n",
       "</table>\n",
       "<table class=\"simpletable\">\n",
       "<tr>\n",
       "         <td></td>            <th>coef</th>     <th>std err</th>      <th>z</th>      <th>P>|z|</th>  <th>[0.025</th>    <th>0.975]</th>  \n",
       "</tr>\n",
       "<tr>\n",
       "  <th>const</th>           <td>    0.0007</td> <td>    0.001</td> <td>    0.890</td> <td> 0.374</td> <td>   -0.001</td> <td>    0.002</td>\n",
       "</tr>\n",
       "<tr>\n",
       "  <th>global_cold</th>     <td>-3.078e-05</td> <td>    0.001</td> <td>   -0.031</td> <td> 0.975</td> <td>   -0.002</td> <td>    0.002</td>\n",
       "</tr>\n",
       "<tr>\n",
       "  <th>global_rain</th>     <td>    0.0057</td> <td>    0.005</td> <td>    1.071</td> <td> 0.284</td> <td>   -0.005</td> <td>    0.016</td>\n",
       "</tr>\n",
       "<tr>\n",
       "  <th>global_coldrain</th> <td>-6.162e-19</td> <td> 4.56e-19</td> <td>   -1.352</td> <td> 0.176</td> <td>-1.51e-18</td> <td> 2.77e-19</td>\n",
       "</tr>\n",
       "<tr>\n",
       "  <th>weekday</th>         <td>   -0.0003</td> <td>    0.000</td> <td>   -1.157</td> <td> 0.247</td> <td>   -0.001</td> <td>    0.000</td>\n",
       "</tr>\n",
       "<tr>\n",
       "  <th>month</th>           <td> 4.743e-05</td> <td> 6.91e-05</td> <td>    0.686</td> <td> 0.492</td> <td> -8.8e-05</td> <td>    0.000</td>\n",
       "</tr>\n",
       "<tr>\n",
       "  <th>Monday</th>          <td>   -0.0009</td> <td>    0.001</td> <td>   -1.150</td> <td> 0.250</td> <td>   -0.002</td> <td>    0.001</td>\n",
       "</tr>\n",
       "<tr>\n",
       "  <th>Winter</th>          <td>   -0.0003</td> <td>    0.001</td> <td>   -0.543</td> <td> 0.587</td> <td>   -0.001</td> <td>    0.001</td>\n",
       "</tr>\n",
       "</table>\n",
       "<table class=\"simpletable\">\n",
       "<tr>\n",
       "  <th>Omnibus:</th>       <td>288.275</td> <th>  Durbin-Watson:     </th> <td>   2.070</td>\n",
       "</tr>\n",
       "<tr>\n",
       "  <th>Prob(Omnibus):</th> <td> 0.000</td>  <th>  Jarque-Bera (JB):  </th> <td>2593.156</td>\n",
       "</tr>\n",
       "<tr>\n",
       "  <th>Skew:</th>          <td>-0.017</td>  <th>  Prob(JB):          </th> <td>    0.00</td>\n",
       "</tr>\n",
       "<tr>\n",
       "  <th>Kurtosis:</th>      <td> 7.885</td>  <th>  Cond. No.          </th> <td>4.00e+18</td>\n",
       "</tr>\n",
       "</table><br/><br/>Warnings:<br/>[1] Standard Errors are heteroscedasticity and autocorrelation robust (HAC) using 20 lags and without small sample correction<br/>[2] The smallest eigenvalue is 9.58e-33. This might indicate that there are<br/>strong multicollinearity problems or that the design matrix is singular."
      ],
      "text/plain": [
       "<class 'statsmodels.iolib.summary.Summary'>\n",
       "\"\"\"\n",
       "                            OLS Regression Results                            \n",
       "==============================================================================\n",
       "Dep. Variable:             LogReturns   R-squared:                       0.001\n",
       "Model:                            OLS   Adj. R-squared:                 -0.001\n",
       "Method:                 Least Squares   F-statistic:                    0.5709\n",
       "Date:                Thu, 01 Nov 2018   Prob (F-statistic):              0.754\n",
       "Time:                        15:50:52   Log-Likelihood:                 7969.9\n",
       "No. Observations:                2608   AIC:                        -1.593e+04\n",
       "Df Residuals:                    2601   BIC:                        -1.588e+04\n",
       "Df Model:                           6                                         \n",
       "Covariance Type:                  HAC                                         \n",
       "===================================================================================\n",
       "                      coef    std err          z      P>|z|      [0.025      0.975]\n",
       "-----------------------------------------------------------------------------------\n",
       "const               0.0007      0.001      0.890      0.374      -0.001       0.002\n",
       "global_cold     -3.078e-05      0.001     -0.031      0.975      -0.002       0.002\n",
       "global_rain         0.0057      0.005      1.071      0.284      -0.005       0.016\n",
       "global_coldrain -6.162e-19   4.56e-19     -1.352      0.176   -1.51e-18    2.77e-19\n",
       "weekday            -0.0003      0.000     -1.157      0.247      -0.001       0.000\n",
       "month            4.743e-05   6.91e-05      0.686      0.492    -8.8e-05       0.000\n",
       "Monday             -0.0009      0.001     -1.150      0.250      -0.002       0.001\n",
       "Winter             -0.0003      0.001     -0.543      0.587      -0.001       0.001\n",
       "==============================================================================\n",
       "Omnibus:                      288.275   Durbin-Watson:                   2.070\n",
       "Prob(Omnibus):                  0.000   Jarque-Bera (JB):             2593.156\n",
       "Skew:                          -0.017   Prob(JB):                         0.00\n",
       "Kurtosis:                       7.885   Cond. No.                     4.00e+18\n",
       "==============================================================================\n",
       "\n",
       "Warnings:\n",
       "[1] Standard Errors are heteroscedasticity and autocorrelation robust (HAC) using 20 lags and without small sample correction\n",
       "[2] The smallest eigenvalue is 9.58e-33. This might indicate that there are\n",
       "strong multicollinearity problems or that the design matrix is singular.\n",
       "\"\"\""
      ]
     },
     "execution_count": 183,
     "metadata": {},
     "output_type": "execute_result"
    }
   ],
   "source": [
    "model.summary()"
   ]
  },
  {
   "cell_type": "markdown",
   "metadata": {},
   "source": [
    "# Merging prices and weather"
   ]
  },
  {
   "cell_type": "code",
   "execution_count": 153,
   "metadata": {},
   "outputs": [],
   "source": [
    "#data = pd.merge(stock_index, weather, on='Date')"
   ]
  }
 ],
 "metadata": {
  "kernelspec": {
   "display_name": "SDA",
   "language": "python",
   "name": "sda"
  },
  "language_info": {
   "codemirror_mode": {
    "name": "ipython",
    "version": 3
   },
   "file_extension": ".py",
   "mimetype": "text/x-python",
   "name": "python",
   "nbconvert_exporter": "python",
   "pygments_lexer": "ipython3",
   "version": "3.7.1"
  }
 },
 "nbformat": 4,
 "nbformat_minor": 2
}
