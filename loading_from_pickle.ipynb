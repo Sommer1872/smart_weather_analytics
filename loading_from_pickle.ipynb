{
 "cells": [
  {
   "cell_type": "code",
   "execution_count": 1,
   "metadata": {},
   "outputs": [],
   "source": [
    "import pandas as pd\n",
    "import pickle"
   ]
  },
  {
   "cell_type": "code",
   "execution_count": 5,
   "metadata": {},
   "outputs": [],
   "source": [
    "nations = [\"US\", \"CH\", \"JPN\", \"UK\"]\n",
    "\n",
    "tables = []\n",
    "\n",
    "for nation in nations:\n",
    "    filename = \"./data/\" + nation + 'data.pickle' \n",
    "    with open(filename, 'rb') as handle:\n",
    "        df = pickle.load(handle)\n",
    "        tables.append(df)"
   ]
  },
  {
   "cell_type": "code",
   "execution_count": 6,
   "metadata": {},
   "outputs": [],
   "source": [
    "us, ch, jpn, uk = tables "
   ]
  }
 ],
 "metadata": {
  "kernelspec": {
   "display_name": "SDA",
   "language": "python",
   "name": "sda"
  },
  "language_info": {
   "codemirror_mode": {
    "name": "ipython",
    "version": 3
   },
   "file_extension": ".py",
   "mimetype": "text/x-python",
   "name": "python",
   "nbconvert_exporter": "python",
   "pygments_lexer": "ipython3",
   "version": "3.7.1"
  }
 },
 "nbformat": 4,
 "nbformat_minor": 2
}
