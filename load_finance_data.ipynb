{
 "cells": [
  {
   "cell_type": "code",
   "execution_count": 8,
   "metadata": {},
   "outputs": [],
   "source": [
    "import quandl"
   ]
  },
  {
   "cell_type": "code",
   "execution_count": 9,
   "metadata": {},
   "outputs": [],
   "source": [
    "%matplotlib inline\n",
    "import pandas as pd\n",
    "import numpy as np\n",
    "import matplotlib.pyplot as plt\n",
    "\n",
    "import time\n",
    "import datetime"
   ]
  },
  {
   "cell_type": "code",
   "execution_count": 19,
   "metadata": {},
   "outputs": [
    {
     "name": "stdout",
     "output_type": "stream",
     "text": [
      "Please enter your quandl API KeyV_Wjo3oPLtefuTGpZgdF\n"
     ]
    }
   ],
   "source": [
    "API_KEY = input(\"Please enter your quandl API Key: \")\n",
    "quandl.ApiConfig.api_key = API_KEY"
   ]
  },
  {
   "cell_type": "code",
   "execution_count": 20,
   "metadata": {},
   "outputs": [],
   "source": [
    "def get_data(tickers, period):\n",
    "    \"\"\"Read stock data (adjusted close) for given symbols from CSV files\"\"\"\n",
    "    df = pd.DataFrame(index=period)\n",
    "    for name, code in tickers.items():\n",
    "        df_temp = quandl.get(tickers[name], start_date=start_date, end_date=today)\n",
    "        df_temp = df_temp['Price']\n",
    "        df_temp = df_temp.rename(columns={'Price': name})\n",
    "        df_temp.name = name\n",
    "        \n",
    "        df = df.join(df_temp)\n",
    "    df.dropna(inplace=True, how='all') \n",
    "    return df"
   ]
  },
  {
   "cell_type": "code",
   "execution_count": 26,
   "metadata": {},
   "outputs": [],
   "source": [
    "def plot_data(df, title='Stock prices'):\n",
    "    \"\"\"Plot stock prices\"\"\"\n",
    "    ax = df.plot(title=title, fontsize=10, figsize=(10,5))\n",
    "    ax.set_xlabel(\"Date\")\n",
    "    ax.set_ylabel(\"Price\")\n",
    "    plt.show()"
   ]
  },
  {
   "cell_type": "code",
   "execution_count": 27,
   "metadata": {},
   "outputs": [],
   "source": [
    "def normalize_data(df):\n",
    "    return df / df.iloc[0, :]"
   ]
  },
  {
   "cell_type": "code",
   "execution_count": 23,
   "metadata": {},
   "outputs": [],
   "source": [
    "TICKERS = {'Zurich': 'SIX/CH0011075394CHF',\n",
    "            }\n",
    "\n",
    "today = datetime.datetime.today()\n",
    "start_date = '2017-09-29'\n",
    "\n",
    "PERIOD = pd.date_range(start_date, today)"
   ]
  },
  {
   "cell_type": "code",
   "execution_count": 24,
   "metadata": {},
   "outputs": [],
   "source": [
    "df = get_data(TICKERS, PERIOD)"
   ]
  },
  {
   "cell_type": "code",
   "execution_count": 28,
   "metadata": {},
   "outputs": [
    {
     "data": {
      "text/html": [
       "<div>\n",
       "<style scoped>\n",
       "    .dataframe tbody tr th:only-of-type {\n",
       "        vertical-align: middle;\n",
       "    }\n",
       "\n",
       "    .dataframe tbody tr th {\n",
       "        vertical-align: top;\n",
       "    }\n",
       "\n",
       "    .dataframe thead th {\n",
       "        text-align: right;\n",
       "    }\n",
       "</style>\n",
       "<table border=\"1\" class=\"dataframe\">\n",
       "  <thead>\n",
       "    <tr style=\"text-align: right;\">\n",
       "      <th></th>\n",
       "      <th>Zurich</th>\n",
       "    </tr>\n",
       "  </thead>\n",
       "  <tbody>\n",
       "    <tr>\n",
       "      <th>2017-09-29</th>\n",
       "      <td>295.4</td>\n",
       "    </tr>\n",
       "    <tr>\n",
       "      <th>2017-10-02</th>\n",
       "      <td>295.3</td>\n",
       "    </tr>\n",
       "    <tr>\n",
       "      <th>2017-10-03</th>\n",
       "      <td>295.8</td>\n",
       "    </tr>\n",
       "    <tr>\n",
       "      <th>2017-10-04</th>\n",
       "      <td>294.0</td>\n",
       "    </tr>\n",
       "    <tr>\n",
       "      <th>2017-10-05</th>\n",
       "      <td>295.3</td>\n",
       "    </tr>\n",
       "  </tbody>\n",
       "</table>\n",
       "</div>"
      ],
      "text/plain": [
       "            Zurich\n",
       "2017-09-29   295.4\n",
       "2017-10-02   295.3\n",
       "2017-10-03   295.8\n",
       "2017-10-04   294.0\n",
       "2017-10-05   295.3"
      ]
     },
     "execution_count": 28,
     "metadata": {},
     "output_type": "execute_result"
    }
   ],
   "source": [
    "df.head()"
   ]
  },
  {
   "cell_type": "code",
   "execution_count": 29,
   "metadata": {},
   "outputs": [],
   "source": [
    "def getStock(userAPI):\n",
    "    # Set up Quandl\n",
    "    quandl.ApiConfig.api_key = userAPI\n",
    "\n",
    "    # ---- INPUTS -----\n",
    "    ticker = str(input(\"Please enter a Ticker:\\n> \"))\n",
    "    print(\"Thanks, please enter the required dates using the following format: 'dd/mm/YYYY'.\")\n",
    "    start = str(input(\"Now please enter a starting date:\\n>\"))\n",
    "    end = str(input(\"One last step.  Please enter an ending date. For today's day, please type 'today':\\n>\"))\n",
    "\n",
    "    # Check the validity of the inputs\n",
    "    # Checks if the start/end have a / element + if length of each element is ok\n",
    "\n",
    "    print(\"Thanks, we are procedding your inputs...\\n\")\n",
    "\n",
    "    # Transfrom into date objects\n",
    "\n",
    "    start = dt.datetime.strptime(start, \"%d/%m/%Y\")\n",
    "    if end == \"today\":\n",
    "        end = dt.datetime.today()\n",
    "    else:\n",
    "        end = dt.datetime.strptime(end, \"%d/%m/%Y\")\n",
    "\n",
    "    print(\"Selected ticker: \" + str(ticker))\n",
    "    print(\"Starting date is: \" + str(start))\n",
    "    print(\"Ending date is: \" + str(end) + \"\\n\")\n",
    "\n",
    "    # ---- Get the Data ----\n",
    "\n",
    "    data = quandl.get_table('WIKI/PRICES', ticker = ticker,\n",
    "                            qopts = { 'columns': ['ticker', 'date', 'close'] },\n",
    "                            date = { 'gte': start, 'lte': end },\n",
    "                            paginate=True)\n",
    "    # Turn the data into a Pandas DataFrame\n",
    "    data = pd.DataFrame(data)\n",
    "    print(\"Here's what the data look like:\\n\")\n",
    "    print(data.head())\n",
    "\n",
    "    # Set the date as index\n",
    "    data = data.set_index('date')\n",
    "    print(\"\\n With date as index\")\n",
    "    print(data.head())\n",
    "\n",
    "    ## ---- Daily or Weekly ? ----\n",
    "\n",
    "    # Additionally, user can be asked whether he prefers to have the data in Aggregate\n",
    "    # weekly or simply in daily.\n",
    "    # Note that it will override the previous data, to save some memory and time.\n",
    "    print(\"\\nWould you like to have daily or weekly data ?\")\n",
    "    print(\" - Type 1 for DAILY frequency\\n - Type 2 for WEEKLY frequency\")\n",
    "    daily = int(input(\"> \"))\n",
    "    if daily == 2:\n",
    "        # we now want to Aggregate the data of Volume to weekly\n",
    "        data['week'] = data.index.week\n",
    "        data['year'] = data.index.year\n",
    "\n",
    "        # Group by year and then by week, so that we have a reasonable ordering\n",
    "        data = data.groupby(['year','week']).mean()\n",
    "        print(\"\\nWeekly Volumes:\")\n",
    "        print(data.head())\n",
    "\n",
    "    ## ---- Daily or Weekly ? ---- \n",
    "    return data"
   ]
  },
  {
   "cell_type": "code",
   "execution_count": null,
   "metadata": {},
   "outputs": [],
   "source": []
  }
 ],
 "metadata": {
  "kernelspec": {
   "display_name": "Python (py35)",
   "language": "python",
   "name": "py35"
  },
  "language_info": {
   "codemirror_mode": {
    "name": "ipython",
    "version": 3
   },
   "file_extension": ".py",
   "mimetype": "text/x-python",
   "name": "python",
   "nbconvert_exporter": "python",
   "pygments_lexer": "ipython3",
   "version": "3.5.5"
  }
 },
 "nbformat": 4,
 "nbformat_minor": 2
}
